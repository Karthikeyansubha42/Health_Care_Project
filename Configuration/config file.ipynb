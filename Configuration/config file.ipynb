{
 "cells": [
  {
   "cell_type": "code",
   "execution_count": 0,
   "metadata": {
    "application/vnd.databricks.v1+cell": {
     "cellMetadata": {
      "byteLimit": 2048000,
      "rowLimit": 10000
     },
     "inputWidgets": {},
     "nuid": "bcbec524-c7cb-4207-af36-99e0c1820477",
     "showTitle": false,
     "tableResultSettingsMap": {},
     "title": ""
    }
   },
   "outputs": [],
   "source": [
    "class ConfigModule():\n",
    "\n",
    "    def __init__(self):\n",
    "        self.base_file_path = spark.sql(\"describe external location data\").select(\"url\").collect()[0][0]\n",
    "        self.base_checkpoint_path = spark.sql(\"describe external location checkpoint\").select(\"url\").collect()[0][0]\n",
    "        self.db_name = \"hc_db\"\n",
    "        self.environment = \"dev\"\n",
    "        self.kafka_bootstrap_servers = \"pkc-56d1g.eastus.azure.confluent.cloud:9092\"\n",
    "        self.kafka_username = \"IQLFWRUUYGHKVNBZ\"\n",
    "        self.kafka_password = \"b2O6KSqoM/GJUZwXo5kxRRwZiTq+To5YbU1zTtXXifekjIicRcFMt4UgpszGFFS3\"\n",
    "\n",
    "\n"
   ]
  }
 ],
 "metadata": {
  "application/vnd.databricks.v1+notebook": {
   "computePreferences": null,
   "dashboards": [],
   "environmentMetadata": {
    "base_environment": "",
    "client": "1"
   },
   "language": "python",
   "notebookMetadata": {
    "mostRecentlyExecutedCommandWithImplicitDF": {
     "commandId": -1,
     "dataframes": [
      "_sqldf"
     ]
    },
    "pythonIndentUnit": 4
   },
   "notebookName": "config file",
   "widgets": {}
  },
  "language_info": {
   "name": "python"
  }
 },
 "nbformat": 4,
 "nbformat_minor": 0
}