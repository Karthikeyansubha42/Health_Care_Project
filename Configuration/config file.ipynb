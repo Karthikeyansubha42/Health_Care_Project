{
 "cells": [
  {
   "cell_type": "code",
   "execution_count": 0,
   "metadata": {
    "application/vnd.databricks.v1+cell": {
     "cellMetadata": {
      "byteLimit": 2048000,
      "rowLimit": 10000
     },
     "inputWidgets": {},
     "nuid": "bcbec524-c7cb-4207-af36-99e0c1820477",
     "showTitle": false,
     "tableResultSettingsMap": {},
     "title": ""
    }
   },
   "outputs": [],
   "source": [
    "class ConfigModule():\n",
    "\n",
    "    def __init__(self, env):\n",
    "        self.base_file_path = spark.sql(\"describe external location data\").select(\"url\").collect()[0][0]\n",
    "        self.base_checkpoint_path = spark.sql(\"describe external location checkpoint\").select(\"url\").collect()[0][0]\n",
    "        self.db_name = \"hc_db\"\n",
    "        self.environment = env\n",
    "        self.kafka_bootstrap_servers = \"pkc-56d1g.eastus.azure.confluent.cloud:9092\"\n",
    "        self.kafka_username = \"VLQDG7OL4WTMPQL6\"\n",
    "        self.kafka_password = \"2M8K4ur6xHRDkyQ4f0F6eTt5ghjiEEnl+DPP5ysWWSd/BFrv9kMOK3BdclyGP6mw\"\n",
    "\n",
    "\n"
   ]
  }
 ],
 "metadata": {
  "application/vnd.databricks.v1+notebook": {
   "computePreferences": null,
   "dashboards": [],
   "environmentMetadata": {
    "base_environment": "",
    "client": "1"
   },
   "language": "python",
   "notebookMetadata": {
    "mostRecentlyExecutedCommandWithImplicitDF": {
     "commandId": -1,
     "dataframes": [
      "_sqldf"
     ]
    },
    "pythonIndentUnit": 4
   },
   "notebookName": "config file",
   "widgets": {}
  },
  "language_info": {
   "name": "python"
  }
 },
 "nbformat": 4,
 "nbformat_minor": 0
}