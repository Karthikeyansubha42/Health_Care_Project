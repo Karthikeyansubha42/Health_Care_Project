{
 "cells": [
  {
   "cell_type": "code",
   "execution_count": 0,
   "metadata": {
    "application/vnd.databricks.v1+cell": {
     "cellMetadata": {
      "byteLimit": 2048000,
      "rowLimit": 10000
     },
     "inputWidgets": {},
     "nuid": "c21ac13a-895b-4513-a999-3a368edf5de8",
     "showTitle": false,
     "tableResultSettingsMap": {},
     "title": ""
    }
   },
   "outputs": [
    {
     "output_type": "stream",
     "name": "stdout",
     "output_type": "stream",
     "text": [
      "Collecting confluent-kafka\n  Obtaining dependency information for confluent-kafka from https://files.pythonhosted.org/packages/a8/c5/25b951af245efadc53630694a54087e561d26379e0318281db3b5750b9e4/confluent_kafka-2.7.0-cp311-cp311-manylinux_2_28_x86_64.whl.metadata\n  Downloading confluent_kafka-2.7.0-cp311-cp311-manylinux_2_28_x86_64.whl.metadata (59 kB)\n\u001B[?25l     \u001B[90m━━━━━━━━━━━━━━━━━━━━━━━━━━━━━━━━━━━━━━━━\u001B[0m \u001B[32m0.0/59.8 kB\u001B[0m \u001B[31m?\u001B[0m eta \u001B[36m-:--:--\u001B[0m\n\u001B[2K     \u001B[91m━━━━━━━━━━━━━━━━━━━━\u001B[0m\u001B[91m╸\u001B[0m\u001B[90m━━━━━━━━━━━━━━━━━━━\u001B[0m \u001B[32m30.7/59.8 kB\u001B[0m \u001B[31m1.2 MB/s\u001B[0m eta \u001B[36m0:00:01\u001B[0m\n\u001B[2K     \u001B[91m━━━━━━━━━━━━━━━━━━━━━━━━━━━━━━━━━\u001B[0m\u001B[90m╺\u001B[0m\u001B[90m━━━━━\u001B[0m \u001B[32m51.2/59.8 kB\u001B[0m \u001B[31m820.1 kB/s\u001B[0m eta \u001B[36m0:00:01\u001B[0m\n\u001B[2K     \u001B[91m━━━━━━━━━━━━━━━━━━━━━━━━━━━━━━━━━\u001B[0m\u001B[90m╺\u001B[0m\u001B[90m━━━━━\u001B[0m \u001B[32m51.2/59.8 kB\u001B[0m \u001B[31m820.1 kB/s\u001B[0m eta \u001B[36m0:00:01\u001B[0m\n\u001B[2K     \u001B[91m━━━━━━━━━━━━━━━━━━━━━━━━━━━━━━━━━\u001B[0m\u001B[90m╺\u001B[0m\u001B[90m━━━━━\u001B[0m \u001B[32m51.2/59.8 kB\u001B[0m \u001B[31m820.1 kB/s\u001B[0m eta \u001B[36m0:00:01\u001B[0m\n\u001B[2K     \u001B[91m━━━━━━━━━━━━━━━━━━━━━━━━━━━━━━━━━\u001B[0m\u001B[90m╺\u001B[0m\u001B[90m━━━━━\u001B[0m \u001B[32m51.2/59.8 kB\u001B[0m \u001B[31m820.1 kB/s\u001B[0m eta \u001B[36m0:00:01\u001B[0m\n\u001B[2K     \u001B[91m━━━━━━━━━━━━━━━━━━━━━━━━━━━━━━━━━\u001B[0m\u001B[90m╺\u001B[0m\u001B[90m━━━━━\u001B[0m \u001B[32m51.2/59.8 kB\u001B[0m \u001B[31m820.1 kB/s\u001B[0m eta \u001B[36m0:00:01\u001B[0m\n\u001B[2K     \u001B[90m━━━━━━━━━━━━━━━━━━━━━━━━━━━━━━━━━━━━━━━\u001B[0m \u001B[32m59.8/59.8 kB\u001B[0m \u001B[31m233.3 kB/s\u001B[0m eta \u001B[36m0:00:00\u001B[0m\n\u001B[?25hDownloading confluent_kafka-2.7.0-cp311-cp311-manylinux_2_28_x86_64.whl (4.0 MB)\n\u001B[?25l   \u001B[90m━━━━━━━━━━━━━━━━━━━━━━━━━━━━━━━━━━━━━━━━\u001B[0m \u001B[32m0.0/4.0 MB\u001B[0m \u001B[31m?\u001B[0m eta \u001B[36m-:--:--\u001B[0m\n\u001B[2K   \u001B[91m╸\u001B[0m\u001B[90m━━━━━━━━━━━━━━━━━━━━━━━━━━━━━━━━━━━━━━━\u001B[0m \u001B[32m0.1/4.0 MB\u001B[0m \u001B[31m4.0 MB/s\u001B[0m eta \u001B[36m0:00:01\u001B[0m\n\u001B[2K   \u001B[91m━━\u001B[0m\u001B[90m╺\u001B[0m\u001B[90m━━━━━━━━━━━━━━━━━━━━━━━━━━━━━━━━━━━━━\u001B[0m \u001B[32m0.2/4.0 MB\u001B[0m \u001B[31m3.4 MB/s\u001B[0m eta \u001B[36m0:00:02\u001B[0m\n\u001B[2K   \u001B[91m━━━\u001B[0m\u001B[91m╸\u001B[0m\u001B[90m━━━━━━━━━━━━━━━━━━━━━━━━━━━━━━━━━━━━\u001B[0m \u001B[32m0.4/4.0 MB\u001B[0m \u001B[31m3.8 MB/s\u001B[0m eta \u001B[36m0:00:01\u001B[0m\n\u001B[2K   \u001B[91m━━━━━━\u001B[0m\u001B[91m╸\u001B[0m\u001B[90m━━━━━━━━━━━━━━━━━━━━━━━━━━━━━━━━━\u001B[0m \u001B[32m0.7/4.0 MB\u001B[0m \u001B[31m5.3 MB/s\u001B[0m eta \u001B[36m0:00:01\u001B[0m\n\u001B[2K   \u001B[91m━━━━━━━━━━━━━\u001B[0m\u001B[91m╸\u001B[0m\u001B[90m━━━━━━━━━━━━━━━━━━━━━━━━━━\u001B[0m \u001B[32m1.4/4.0 MB\u001B[0m \u001B[31m8.3 MB/s\u001B[0m eta \u001B[36m0:00:01\u001B[0m\n\u001B[2K   \u001B[91m━━━━━━━━━━━━━━━━━━━━━━\u001B[0m\u001B[91m╸\u001B[0m\u001B[90m━━━━━━━━━━━━━━━━━\u001B[0m \u001B[32m2.3/4.0 MB\u001B[0m \u001B[31m11.2 MB/s\u001B[0m eta \u001B[36m0:00:01\u001B[0m\n\u001B[2K   \u001B[91m━━━━━━━━━━━━━━━━━━━━━━━━━━━━━━━━━━━\u001B[0m\u001B[90m╺\u001B[0m\u001B[90m━━━━\u001B[0m \u001B[32m3.5/4.0 MB\u001B[0m \u001B[31m14.7 MB/s\u001B[0m eta \u001B[36m0:00:01\u001B[0m\n\u001B[2K   \u001B[90m━━━━━━━━━━━━━━━━━━━━━━━━━━━━━━━━━━━━━━━━\u001B[0m \u001B[32m4.0/4.0 MB\u001B[0m \u001B[31m15.3 MB/s\u001B[0m eta \u001B[36m0:00:00\u001B[0m\n\u001B[?25hInstalling collected packages: confluent-kafka\nSuccessfully installed confluent-kafka-2.7.0\n\u001B[43mNote: you may need to restart the kernel using %restart_python or dbutils.library.restartPython() to use updated packages.\u001B[0m\n"
     ]
    }
   ],
   "source": [
    "pip install confluent-kafka"
   ]
  },
  {
   "cell_type": "code",
   "execution_count": 0,
   "metadata": {
    "application/vnd.databricks.v1+cell": {
     "cellMetadata": {
      "byteLimit": 2048000,
      "rowLimit": 10000
     },
     "inputWidgets": {},
     "nuid": "a8691205-fbd7-4b60-9b22-1bd1108049c8",
     "showTitle": false,
     "tableResultSettingsMap": {},
     "title": ""
    }
   },
   "outputs": [
    {
     "output_type": "stream",
     "name": "stdout",
     "output_type": "stream",
     "text": [
      "Message produced: workout\nMessage produced: workout1\n"
     ]
    }
   ],
   "source": [
    "from confluent_kafka import Producer\n",
    "import re\n",
    "\n",
    "conf = {\n",
    "    'bootstrap.servers':'pkc-56d1g.eastus.azure.confluent.cloud:9092',\n",
    "    'security.protocol':'SASL_SSL', \n",
    "    'sasl.mechanism':'PLAIN', \n",
    "    'sasl.username':'IQLFWRUUYGHKVNBZ', \n",
    "    'sasl.password':'b2O6KSqoM/GJUZwXo5kxRRwZiTq+To5YbU1zTtXXifekjIicRcFMt4UgpszGFFS3'}\n",
    "\n",
    "data = {\n",
    "    \"user_info\":\"\"\"{\"user_id\": 12474, \"update_type\": \"new\", \"timestamp\": 1678451168.0, \"dob\": \"07/25/1939\", \"sex\": \"M\", \"gender\": \"M\", \"first_name\": \"Matthew\", \"last_name\": \"Phillips\", \"address\": {\"street_address\": \"02648 Wilkins Cliffs Suite 998\", \"city\": \"San Fernando\", \"state\":\"CA\", \"zip\": 91340}}\"\"\",\n",
    "    \"bpm\": \"\"\"{\"device_id\":118440,\"time\":1678410000,\"heartrate\":41.21897868284929}\"\"\",\n",
    "    \"bpm1\": \"\"\"{\"device_id\":118440,\"time\":1678521904.0,\"heartrate\":45.99997868284929}\"\"\",\n",
    "    \"bpm2\": \"\"\"{\"device_id\":118440,\"time\":1678521964.0,\"heartrate\":52.666897868284929}\"\"\",\n",
    "    \"bpm3\": \"\"\"{\"device_id\":118440,\"time\":1678524600.0,\"heartrate\":46.966897868280029}\"\"\",\n",
    "    \"bpm4\": \"\"\"{\"device_id\":118440,\"time\":1678528600.0,\"heartrate\":41.066897868280029}\"\"\",\n",
    "    \"workout\": \"\"\"{\"user_id\": 12474, \"workout_id\": 1, \"timestamp\": 1678521900.0, \"action\": \"start\", \"session_id\": 1}\"\"\",\n",
    "    \"workout1\": \"\"\"{\"user_id\": 12474, \"workout_id\": 1, \"timestamp\": 1678522940.0, \"action\": \"stop\", \"session_id\": 1}\"\"\",\n",
    "    \"user_info1\":\"\"\"{\"user_id\": 12474, \"update_type\": \"update\", \"timestamp\": 1678451368.0, \"dob\": \"07/26/1939\", \"sex\": \"M\", \"gender\": \"M\", \"first_name\": \"Matthew\", \"last_name\": \"Phillips\", \"address\": {\"street_address\": \"02648 Wilkins Cliffs Suite 998\", \"city\": \"San Fernando\", \"state\":\"TN\", \"zip\": 90000}}\"\"\",\n",
    "    \"user_info2\":\"\"\"{\"user_id\": 12474, \"update_type\": \"update\", \"timestamp\": 1678451558.0, \"dob\": \"02/20/1999\", \"sex\": \"M\", \"gender\": \"M\", \"first_name\": \"karthikeyan\", \"last_name\": \"s\", \"address\": {\"street_address\": \"newstreet, manachanallur\", \"city\": \"Tiruchirapallai\", \"state\":\"TN\", \"zip\": 621005}}\"\"\",\n",
    "    \"user_info3\":\"\"\"{\"user_id\": 12140, \"update_type\": \"new\", \"timestamp\": 1778451368.0, \"dob\": \"03/30/1939\", \"sex\": \"M\", \"gender\": \"M\", \"first_name\": \"balaji\", \"last_name\": \"b\", \"address\": {\"street_address\": \"essanatham\", \"city\": \"karur\", \"state\":\"TN\", \"zip\": 612006}}\"\"\"\n",
    "}\n",
    "\n",
    "producer = Producer(**conf)\n",
    "for key, value in data.items():\n",
    "    if re.search('user_info', key):\n",
    "        #print(key, value)\n",
    "        producer.produce(topic='user_info', key=key, value=value, callback=print(f'Message produced: {key}'))\n",
    "    elif re.search('bpm', key):\n",
    "        #print(key, value)\n",
    "        producer.produce(topic='bpm', key=key, value=value, callback=print(f'Message produced: {key}'))\n",
    "    elif re.search('workout', key):\n",
    "        #print(key, value)\n",
    "        producer.produce(topic='workout', key=key, value=value, callback=print(f'Message produced: {key}'))\n",
    "        producer.flush(10)"
   ]
  }
 ],
 "metadata": {
  "application/vnd.databricks.v1+notebook": {
   "computePreferences": null,
   "dashboards": [],
   "environmentMetadata": {
    "base_environment": "",
    "client": "1"
   },
   "language": "python",
   "notebookMetadata": {
    "pythonIndentUnit": 4
   },
   "notebookName": "Scratch work",
   "widgets": {}
  },
  "language_info": {
   "name": "python"
  }
 },
 "nbformat": 4,
 "nbformat_minor": 0
}